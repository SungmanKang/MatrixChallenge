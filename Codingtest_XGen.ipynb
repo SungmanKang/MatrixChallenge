{
  "nbformat": 4,
  "nbformat_minor": 0,
  "metadata": {
    "colab": {
      "provenance": [],
      "authorship_tag": "ABX9TyMcwVgqZXHi35cx04CrP44U",
      "include_colab_link": true
    },
    "kernelspec": {
      "name": "python3",
      "display_name": "Python 3"
    },
    "language_info": {
      "name": "python"
    }
  },
  "cells": [
    {
      "cell_type": "markdown",
      "metadata": {
        "id": "view-in-github",
        "colab_type": "text"
      },
      "source": [
        "<a href=\"https://colab.research.google.com/github/SungmanKang/MatrixChallenge/blob/Sun/Codingtest_XGen.ipynb\" target=\"_parent\"><img src=\"https://colab.research.google.com/assets/colab-badge.svg\" alt=\"Open In Colab\"/></a>"
      ]
    },
    {
      "cell_type": "code",
      "execution_count": null,
      "metadata": {
        "colab": {
          "base_uri": "https://localhost:8080/"
        },
        "id": "uH_huUzWVYfj",
        "outputId": "79150d94-5c95-4efb-fb8b-15b2097f7a8b"
      },
      "outputs": [
        {
          "output_type": "stream",
          "name": "stdout",
          "text": [
            "['2', '2', '4', '1', '1', '8', '7', '6', '5']\n",
            "[2, 2, 4, 1, 1, 8, 7, 6, 5]\n",
            "[[2, 2, 4], [1, 1, 8], [7, 6, 5]]\n",
            "[[1, 0, 0], [0, 1, 0], [0, 0, 1]]\n"
          ]
        }
      ],
      "source": [
        "from IPython.utils import colorable\n",
        "import numpy as np\n",
        "\n",
        "\n",
        "def MatrixChallenge(strArr):\n",
        "  arr= []\n",
        "  startIdx = 0\n",
        "  row, col = 1, 0\n",
        "  '''\n",
        "  for i in range(len(strArr)):\n",
        "    val = strArr[i]\n",
        "    if val == '<>':\n",
        "      col = i\n",
        "      row += 1\n",
        "  '''\n",
        "  test = ''.join(strArr)\n",
        "  col = test.find('<>')\n",
        "  row = test.count('<>') + 1 \n",
        "  #print(col, row)\n",
        "\n",
        "  remove_word = '<>'\n",
        "\n",
        "  strArr = [i for i in strArr if i not in remove_word]\n",
        "  print(strArr)\n",
        "\n",
        "  temp = [int(i) for i in strArr]\n",
        "  print(temp)\n",
        "  #matrix = np.zeros([row,col])\n",
        "  \n",
        "  \n",
        "  '''\n",
        "  for i in range(row):\n",
        "    for j in range(col):\n",
        "      matrix[i][j] = strArr[i*col + j]\n",
        "  '''\n",
        "  \n",
        "  #matrix = np.array(temp).reshape(row,col)\n",
        "  #matrix = matrix.astype(int)\n",
        "  matrix = [[int(0) for i in range(col)] for j in range(row)]\n",
        "  for i in range(row):\n",
        "    for j in range(col):\n",
        "      matrix[i][j] = temp[i*col + j]\n",
        "\n",
        "  print(matrix)\n",
        "\n",
        "\n",
        "  def ToReducedRowEchelonForm( M):\n",
        "    \n",
        "    lead = 0\n",
        "    rowCount = len(M)\n",
        "    columnCount = len(M[0])\n",
        "    count = 0\n",
        "    for r in range(rowCount):\n",
        "        if lead >= columnCount:\n",
        "            return\n",
        "        i = r\n",
        "        while M[i][lead] == 0:\n",
        "            i += 1\n",
        "            if i == rowCount:\n",
        "                i = r\n",
        "                lead += 1\n",
        "                if columnCount == lead:\n",
        "                    return\n",
        "        M[i],M[r] = M[r],M[i]\n",
        "        lv = M[r][lead]\n",
        "\n",
        "        #print(r)\n",
        "        if not lv == 0:\n",
        "          M[r] = [ int(mrx / float(lv)) for mrx in M[r]]\n",
        "        \n",
        "        for i in range(rowCount):\n",
        "            if i != r:\n",
        "                lv = M[i][lead]\n",
        "                M[i] = [ int(iv - lv*rv) for rv,iv in zip(M[r],M[i])]\n",
        "        lead += 1\n",
        "      \n",
        "    #print(count)\n",
        "    \n",
        "  \n",
        "  ToReducedRowEchelonForm( matrix )\n",
        "   \n",
        "  # code goes here\n",
        "  return matrix\n",
        "\n",
        "# keep this function call here \n",
        "\n",
        "\n",
        "mtx = [\"2\",\"2\",\"4\",\"<>\",\"1\",\"1\",\"8\",\"<>\",\"7\",\"6\",\"5\"]\n",
        "#mtx = [\"2\",\"4\",\"8\",\"<>\",\"6\",\"12\",\"14\"]\n",
        "print(MatrixChallenge(mtx))\n",
        "#100   010    001"
      ]
    }
  ]
}